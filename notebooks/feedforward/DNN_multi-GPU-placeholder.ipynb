{
 "cells": [
  {
   "cell_type": "markdown",
   "metadata": {
    "collapsed": true
   },
   "source": [
    "## vanilla-DNN"
   ]
  },
  {
   "cell_type": "markdown",
   "metadata": {},
   "source": [
    "Author: Justin Tan\n",
    "\n",
    "Vanilla neural network. Do anything from MNIST to signal classification.\n",
    "\n",
    "Update 20/03: Added batch normalization, TensorBoard visualization\n",
    "\n",
    "Update 19/06: Added cosine annealing, exponential moving average\n",
    "\n",
    "Update 22/09: Moved input pipeline to tfrecords"
   ]
  },
  {
   "cell_type": "code",
   "execution_count": 1,
   "metadata": {},
   "outputs": [
    {
     "name": "stdout",
     "output_type": "stream",
     "text": [
      "Fri Sep 22 21:01:47 2017       \r\n",
      "+-----------------------------------------------------------------------------+\r\n",
      "| NVIDIA-SMI 384.66                 Driver Version: 384.66                    |\r\n",
      "|-------------------------------+----------------------+----------------------+\r\n",
      "| GPU  Name        Persistence-M| Bus-Id        Disp.A | Volatile Uncorr. ECC |\r\n",
      "| Fan  Temp  Perf  Pwr:Usage/Cap|         Memory-Usage | GPU-Util  Compute M. |\r\n",
      "|===============================+======================+======================|\r\n",
      "|   0  Tesla K80           Off  | 00000000:05:00.0 Off |                    0 |\r\n",
      "| N/A   45C    P0    58W / 149W |      0MiB / 11439MiB |      0%      Default |\r\n",
      "+-------------------------------+----------------------+----------------------+\r\n",
      "|   1  Tesla K80           Off  | 00000000:06:00.0 Off |                    0 |\r\n",
      "| N/A   38C    P0    73W / 149W |      0MiB / 11439MiB |      0%      Default |\r\n",
      "+-------------------------------+----------------------+----------------------+\r\n",
      "|   2  Tesla K80           Off  | 00000000:84:00.0 Off |                    0 |\r\n",
      "| N/A   50C    P0    66W / 149W |      0MiB / 11439MiB |      0%      Default |\r\n",
      "+-------------------------------+----------------------+----------------------+\r\n",
      "|   3  Tesla K80           Off  | 00000000:85:00.0 Off |                    0 |\r\n",
      "| N/A   36C    P0    71W / 149W |      0MiB / 11439MiB |     96%      Default |\r\n",
      "+-------------------------------+----------------------+----------------------+\r\n",
      "                                                                               \r\n",
      "+-----------------------------------------------------------------------------+\r\n",
      "| Processes:                                                       GPU Memory |\r\n",
      "|  GPU       PID  Type  Process name                               Usage      |\r\n",
      "|=============================================================================|\r\n",
      "|  No running processes found                                                 |\r\n",
      "+-----------------------------------------------------------------------------+\r\n"
     ]
    }
   ],
   "source": [
    "!nvidia-smi"
   ]
  },
  {
   "cell_type": "code",
   "execution_count": 1,
   "metadata": {},
   "outputs": [
    {
     "name": "stdout",
     "output_type": "stream",
     "text": [
      "Available GPUs:\n",
      "['/device:GPU:0', '/device:GPU:1', '/device:GPU:2', '/device:GPU:3']\n"
     ]
    }
   ],
   "source": [
    "import tensorflow as tf\n",
    "import numpy as np\n",
    "import pandas as pd\n",
    "import pyarrow.parquet as pq\n",
    "import glob, time, os\n",
    "\n",
    "import selu\n",
    "from diagnostics import *\n",
    "from gpu_ops import *\n",
    "\n",
    "class config(object):\n",
    "    # Set network parameters\n",
    "    mode = 'pi0veto'\n",
    "    channel = 'Bu2Xsy'\n",
    "    nFeatures = 44\n",
    "    keep_prob = 0.72\n",
    "    num_epochs = 16\n",
    "    batch_size = 512\n",
    "    n_layers = 5\n",
    "    hidden_layer_nodes = [1024, 1024, 512, 512, 256]\n",
    "    ema_decay = 0.999\n",
    "    learning_rate = 1e-4\n",
    "    cycles = 8 # Number of annealing cycles\n",
    "    n_classes = 2\n",
    "    n_gpus = 4\n",
    "    builder = 'selu'\n",
    "\n",
    "class directories(object):\n",
    "    train = '/data/projects/punim0011/jtan/spark/spark2tf/sc_train.parquet'# '/home/jtan/gpu/jtan/spark/spark2tf/example_train.tfrecords'\n",
    "    test = '/data/projects/punim0011/jtan/spark/spark2tf/sc_test.parquet'# '/home/jtan/gpu/jtan/spark/spark2tf/example_test.tfrecords'\n",
    "    tensorboard = 'tensorboard'\n",
    "    checkpoints = 'checkpoints'\n",
    "\n",
    "def load_parquet(datasetName):\n",
    "    excludeFeatures = ['labels', 'mbc', 'deltae']\n",
    "    dataset = pq.ParquetDataset(datasetName)\n",
    "    pdf = dataset.read(nthreads=4).to_pandas()\n",
    "    features = pdf.drop(excludeFeatures, axis=1)\n",
    "    labels = pdf['labels'].astype(np.int32)\n",
    "    \n",
    "    return features.values, labels.values\n",
    "\n",
    "assert config.batch_size%config.n_gpus == 0, 'Batch size must be divisble by the number of gpus'\n",
    "architecture = '{} - {} | Layers: {} | Dropout: {} | Base LR: {} | Epochs: {}'.format(\n",
    "    config.channel, config.mode, config.n_layers, config.keep_prob, config.learning_rate, config.num_epochs)\n",
    "\n",
    "features, labels = load_parquet(directories.train)\n",
    "featuresTest, labelsTest = load_parquet(directories.test)\n",
    "config.nTrainExamples, config.nFeatures = features.shape[0], features.shape[-1]\n",
    "config.steps_per_epoch = features.shape[0] // config.batch_size\n",
    "get_available_gpus()"
   ]
  },
  {
   "cell_type": "markdown",
   "metadata": {},
   "source": [
    "### Functions for graph construction"
   ]
  },
  {
   "cell_type": "code",
   "execution_count": 2,
   "metadata": {
    "collapsed": true
   },
   "outputs": [],
   "source": [
    "def dataset_placeholder(features_placeholder, labels_placeholder, batchSize, numEpochs, training=True):  \n",
    "    dataset = tf.contrib.data.Dataset.from_tensor_slices((features_placeholder, labels_placeholder))\n",
    "    dataset = dataset.shuffle(buffer_size=16384)\n",
    "    dataset = dataset.batch(batchSize)\n",
    "    dataset = dataset.repeat(numEpochs) if training else dataset\n",
    "\n",
    "    return dataset\n",
    "\n",
    "def dataset_train(dataDirectory, batchSize, numEpochs, nFeatures, training=True):\n",
    "    filenames = glob.glob('{}/part*'.format(dataDirectory))\n",
    "    dataset = tf.contrib.data.TFRecordDataset(filenames)\n",
    "\n",
    "    # Extract data from `tf.Example` protocol buffer\n",
    "    def parser(record, batchSize=128):\n",
    "        keys_to_features = {\n",
    "            \"features\": tf.FixedLenFeature([nFeatures], tf.float32),\n",
    "            \"labels\": tf.FixedLenFeature((), tf.float32,\n",
    "            default_value=tf.zeros([], dtype=tf.float32)),\n",
    "        }\n",
    "        parsed = tf.parse_single_example(record, keys_to_features)\n",
    "        label = tf.cast(parsed['labels'], tf.int32)\n",
    "\n",
    "        return parsed['features'], label\n",
    "\n",
    "    # Transform into feature, label tensor pair\n",
    "    dataset = dataset.map(parser)\n",
    "    dataset = dataset.shuffle(buffer_size=16384)\n",
    "    dataset = dataset.batch(batchSize)\n",
    "    dataset = dataset.repeat(numEpochs) if training else dataset\n",
    "\n",
    "    return dataset\n",
    "\n",
    "def dense_builder(x, shape, name, keep_prob, training=True, actv=tf.nn.relu):\n",
    "    init=tf.contrib.layers.xavier_initializer()\n",
    "    kwargs = {'center': True, 'scale': True, 'training': training, 'fused': True, 'renorm': True}\n",
    "\n",
    "    with tf.variable_scope(name, initializer=init) as scope:\n",
    "        layer = tf.layers.dense(x, units=shape[1], activation=actv)\n",
    "        bn = tf.layers.batch_normalization(layer, **kwargs)\n",
    "        layer_out = tf.layers.dropout(bn, keep_prob, training=training)\n",
    "\n",
    "    return layer_out\n",
    "\n",
    "def selu_builder(x, shape, name, keep_prob, training=True):\n",
    "    init = tf.contrib.layers.variance_scaling_initializer(factor=1.0, mode='FAN_IN')\n",
    "\n",
    "    with tf.variable_scope(name) as scope:\n",
    "        W = tf.get_variable(\"weights\", shape = shape, initializer=init)\n",
    "        b = tf.get_variable(\"biases\", shape = [shape[1]], initializer=tf.random_normal_initializer(stddev=0.1))\n",
    "        actv = selu.selu(tf.add(tf.matmul(x, W), b))\n",
    "        layer_output = selu.dropout_selu(actv, rate=1-keep_prob, training=training)\n",
    "\n",
    "    return layer_output\n",
    "\n",
    "def dense_model(x, n_layers, hidden_layer_nodes, keep_prob, builder=selu_builder, reuse=False, training=True):\n",
    "    # Extensible dense model\n",
    "    print('Building computation graph')\n",
    "    SELU_initializer = tf.contrib.layers.variance_scaling_initializer(factor=1.0, mode='FAN_IN')\n",
    "    init = SELU_initializer if builder==selu_builder else tf.contrib.layers.xavier_initializer()\n",
    "    assert n_layers == len(hidden_layer_nodes), 'Specified layer nodes and number of layers do not correspond.'\n",
    "    layers = [x]\n",
    "\n",
    "    with tf.variable_scope('dense_model', reuse=reuse):\n",
    "        hidden_0 = builder(x, shape=[config.nFeatures, hidden_layer_nodes[0]], name='hidden0',\n",
    "                                keep_prob = keep_prob, training=training)\n",
    "        layers.append(hidden_0)\n",
    "        for n in range(0,n_layers-1):\n",
    "            hidden_n = builder(layers[-1], shape=[hidden_layer_nodes[n], hidden_layer_nodes[n+1]], name='hidden{}'.format(n+1),\n",
    "                                keep_prob=keep_prob, training=training)\n",
    "            layers.append(hidden_n)\n",
    "\n",
    "        readout = tf.layers.dense(hidden_n, units=config.n_classes, kernel_initializer=init)\n",
    "\n",
    "    return readout\n",
    "\n",
    "def cosine_anneal(initial_lr, t, T, M):\n",
    "    from math import ceil\n",
    "    beta = initial_lr/2 * (np.cos(np.pi* (t % ceil(T/M))/ceil(T/M)) + 1)\n",
    "    return beta"
   ]
  },
  {
   "cell_type": "code",
   "execution_count": 5,
   "metadata": {
    "collapsed": true
   },
   "outputs": [],
   "source": [
    "class vanillaDNN():\n",
    "    # Builds the computational graph\n",
    "    def __init__(self, config, training=True, cyclical=False):\n",
    "        \n",
    "        self.global_step = tf.Variable(0, trainable=False)\n",
    "        self.handle = tf.placeholder(tf.string, shape=[])\n",
    "        self.training_phase = tf.placeholder(tf.bool)\n",
    "        self.beta = tf.placeholder(tf.float32) if cyclical else config.learning_rate\n",
    "#         self.beta = tf.train.exponential_decay(config.learning_rate, self.global_step, \n",
    "#                                                decay_steps = config.steps_per_epoch, decay_rate = config.lr_epoch_decay, staircase=True)\n",
    "         \n",
    "        # Feedable iterator defined by handle placeholder and structure.\n",
    "        self.features_placeholder = tf.placeholder(features.dtype, features.shape)\n",
    "        self.labels_placeholder = tf.placeholder(labels.dtype, labels.shape)\n",
    "        self.featuresTest_placeholder = tf.placeholder(features.dtype, featuresTest.shape)\n",
    "        self.labelsTest_placeholder = tf.placeholder(labels.dtype, labelsTest.shape)\n",
    "\n",
    "        trainDataset = dataset_placeholder(self.features_placeholder, self.labels_placeholder, \n",
    "                                           int(config.batch_size/config.n_gpus), config.num_epochs, training=True)\n",
    "        testDataset = dataset_placeholder(self.featuresTest_placeholder, self.labelsTest_placeholder, \n",
    "                                          int(config.batch_size/config.n_gpus), config.num_epochs, training=True)\n",
    "        \n",
    "        self.iterator = tf.contrib.data.Iterator.from_string_handle(self.handle, trainDataset.output_types, \n",
    "                                                               trainDataset.output_shapes)\n",
    "\n",
    "        self.train_iterator = trainDataset.make_initializable_iterator()\n",
    "        self.test_iterator = testDataset.make_initializable_iterator()\n",
    "        \n",
    "        opt = tf.train.AdamOptimizer(self.beta)\n",
    "#         self.examples, labels = self.iterator.get_next()\n",
    "        \n",
    "#         example_batches = tf.split(self.examples, config.n_gpus, axis = 0)\n",
    "#         label_batches = tf.split(labels, config.n_gpus, axis = 0)\n",
    "        # Calculate gradients for each model tower\n",
    "        tower = {'grads': [], 'readouts': [], 'summaries': [],\n",
    "                 'losses': [], 'labels': []}\n",
    "        for gpu in range(config.n_gpus):\n",
    "            with tf.device('/gpu:{}'.format(gpu)):\n",
    "                with tf.variable_scope('vDNN', reuse=(gpu > 0)):\n",
    "                    with tf.name_scope('tower_{}'.format(gpu)) as scope:\n",
    "                        # Load one batch per GPU\n",
    "                        example_batch, label_batch = self.iterator.get_next()\n",
    "\n",
    "                        # Calculate loss for one tower of the model. Construct the entire model,\n",
    "                        # but share the variable across all towers\n",
    "                        loss, readout = tower_computation(dense_model, config, scope, example_batch, label_batch, self.training_phase, gpu)\n",
    "                        # Retain the summaries from the final tower.\n",
    "                        summaries = tf.get_collection(tf.GraphKeys.SUMMARIES, scope)\n",
    "\n",
    "                        # Retain batch norm update operations only from the final tower.\n",
    "                        update_ops = tf.get_collection(tf.GraphKeys.UPDATE_OPS, scope)\n",
    "\n",
    "                        # Calculate the gradients for given batch on this tower\n",
    "                        grads = opt.compute_gradients(loss)\n",
    "                        tower['grads'].append(grads)\n",
    "                        tower['readouts'].append(readout)\n",
    "                        tower['summaries'].append(summaries)\n",
    "                        tower['losses'].append(loss)\n",
    "                        tower['labels'].append(label_batch)\n",
    "        \n",
    "        # Synchronize all towers\n",
    "        mean_grads = average_gradients(tower['grads'])\n",
    "        self.readout = tf.concat(tower['readouts'], axis=0)\n",
    "        self.labels = tf.concat(tower['labels'], axis=0)\n",
    "        \n",
    "        # Evaluation metrics\n",
    "        self.cross_entropy = tf.reduce_mean(tower['losses'])\n",
    "        self.p = tf.nn.softmax(self.readout)\n",
    "        correct_prediction = tf.equal(tf.cast(tf.argmax(self.readout, 1), tf.int32), self.labels)\n",
    "        self.accuracy = tf.reduce_mean(tf.cast(correct_prediction, tf.float32))\n",
    "        _, self.auc_op = tf.metrics.auc(predictions=tf.argmax(self.readout,1), labels=self.labels, num_thresholds=1024)\n",
    "        \n",
    "        # Track moving average of trainable variables\n",
    "        self.ema = tf.train.ExponentialMovingAverage(decay=config.ema_decay, num_updates=self.global_step)\n",
    "        maintain_averages_op = self.ema.apply(tf.trainable_variables())\n",
    "        \n",
    "        # Apply the gradients to adjust the shared variables.\n",
    "        #with tf.control_dependencies(update_ops):\n",
    "        apply_gradient_op = opt.apply_gradients(mean_grads, global_step=self.global_step)\n",
    "        \n",
    "        # Group all updates to into a single train op.\n",
    "        # batchnorm_updates_op = tf.group(*batchnorm_updates)\n",
    "        self.train_op = tf.group(apply_gradient_op, maintain_averages_op)#, batchnorm_updates_op)\n",
    "        \n",
    "        # Build the summary operation across tower summaries\n",
    "        tower['summaries'].append(tf.summary.scalar('cross_entropy', self.cross_entropy))\n",
    "        tower['summaries'].append(tf.summary.scalar('accuracy', self.accuracy))\n",
    "        tower['summaries'].append(tf.summary.scalar('auc', self.auc_op))\n",
    "        tower['summaries'].append(tf.summary.scalar('learning_rate', self.beta))\n",
    "        self.merge_op = tf.summary.merge(tower['summaries'])\n",
    "        \n",
    "        self.train_writer = tf.summary.FileWriter(\n",
    "            os.path.join(directories.tensorboard, 'multiGPUtrain_{}'.format(time.strftime('%d-%m_%I:%M'))), graph = tf.get_default_graph())\n",
    "        self.test_writer = tf.summary.FileWriter(\n",
    "            os.path.join(directories.tensorboard, 'multiGPUtest_{}'.format(time.strftime('%d-%m_%I:%M'))))\n",
    "\n",
    "    def predict(self, ckpt):\n",
    "        pin_cpu = tf.ConfigProto(allow_soft_placement=True, log_device_placement=True, device_count = {'GPU':0})\n",
    "        start_time = time.time()\n",
    "        \n",
    "        # Restore the moving average version of the learned variables for eval.\n",
    "        variables_to_restore = self.ema.variables_to_restore()\n",
    "        saver = tf.train.Saver(variables_to_restore)\n",
    "        valDataset = dataset_train(directories.test, batchSize=config.batch_size, numEpochs=config.num_epochs, \n",
    "                                    nFeatures=config.nFeatures, training=False)\n",
    "\n",
    "        val_iterator = valDataset.make_one_shot_iterator()\n",
    "        concatLabels = tf.cast(self.label, tf.int32)\n",
    "        concatPreds = tf.cast(tf.argmax(self.readout,1), tf.int32)\n",
    "        concatOutput = self.p[:,1]\n",
    "\n",
    "        with tf.Session(config=pin_cpu) as sess:\n",
    "            # Initialize variables\n",
    "            init_op = tf.global_variables_initializer()\n",
    "            sess.run(init_op)\n",
    "            sess.run(tf.local_variables_initializer())\n",
    "            assert (ckpt.model_checkpoint_path), 'Missing checkpoint file!'    \n",
    "            saver.restore(sess, ckpt.model_checkpoint_path)\n",
    "            print('{} restored.'.format(ckpt.model_checkpoint_path))\n",
    "            val_handle = sess.run(val_iterator.string_handle())\n",
    "            labels, preds, outputs = [], [], []\n",
    "            while True:\n",
    "                try:\n",
    "                    l, p, o = sess.run([concatLabels, concatPreds, concatOutput], \n",
    "                                       feed_dict = {vDNN.training_phase: False, vDNN.handle: val_handle})\n",
    "                    labels.append(l), preds.append(p), outputs.append(o)\n",
    "                except tf.errors.OutOfRangeError:\n",
    "                    labels, preds, outputs = np.concatenate(labels), np.concatenate(preds), np.concatenate(outputs)\n",
    "                    break\n",
    "            acc = np.mean(np.equal(labels,preds))\n",
    "            print(\"Validation accuracy: {:.3f}\".format(acc))\n",
    "            \n",
    "            plot_ROC_curve(network_output=outputs, y_true=labels, identifier=config.mode+config.channel,\n",
    "                           meta=architecture + ' | Test accuracy: {:.3f}'.format(acc))\n",
    "            delta_t = time.time() - start_time\n",
    "            print(\"Inference complete. Duration: %g s\" %(delta_t))\n",
    "            \n",
    "            return labels, preds, outputs"
   ]
  },
  {
   "cell_type": "code",
   "execution_count": 6,
   "metadata": {
    "collapsed": true
   },
   "outputs": [],
   "source": [
    "def train(config, restore = False):\n",
    "    # Executes training operations\n",
    "    print('Architecture: {}'.format(architecture))\n",
    "    vDNN = vanillaDNN(config, training=True)\n",
    "    start_time = time.time()\n",
    "    global_step, n_checkpoints, v_auc_best = 0, 0, 0.\n",
    "    saver = tf.train.Saver()\n",
    "    ckpt = tf.train.get_checkpoint_state(directories.checkpoints)\n",
    "\n",
    "    with tf.Session(config=tf.ConfigProto(allow_soft_placement=True, log_device_placement=True)) as sess:\n",
    "        # Initialize variables\n",
    "        init_op = tf.global_variables_initializer()\n",
    "        sess.run(init_op)\n",
    "        train_handle = sess.run(vDNN.train_iterator.string_handle())\n",
    "        test_handle = sess.run(vDNN.test_iterator.string_handle())\n",
    "        \n",
    "        if restore and ckpt.model_checkpoint_path:\n",
    "            saver.restore(sess, ckpt.model_checkpoint_path)\n",
    "            print('{} restored.'.format(ckpt.model_checkpoint_path))\n",
    "        \n",
    "        sess.run(vDNN.train_iterator.initializer, feed_dict={vDNN.features_placeholder: features,\n",
    "                                                             vDNN.labels_placeholder: labels})\n",
    "        sess.run(vDNN.test_iterator.initializer, feed_dict={vDNN.featuresTest_placeholder: featuresTest,\n",
    "                                                             vDNN.labelsTest_placeholder: labelsTest})\n",
    "        while True:\n",
    "            try:\n",
    "                # Run X steps on training dataset\n",
    "                sess.run(vDNN.train_op, feed_dict = {vDNN.training_phase: True, vDNN.handle: train_handle})\n",
    "                global_step+=1\n",
    "\n",
    "                # Single pass over validation dataset\n",
    "                if global_step % (config.steps_per_epoch // 5) == 0:\n",
    "                    epoch, v_auc_best = run_diagnostics(vDNN, config, directories, sess, saver, train_handle, test_handle, \n",
    "                                                        global_step, config.nTrainExamples, start_time, v_auc_best, n_checkpoints)\n",
    "                    \n",
    "            except tf.errors.OutOfRangeError:\n",
    "                break\n",
    "\n",
    "        save_path = saver.save(sess, os.path.join(directories.checkpoints, 'vDNN_{}_{}_end.ckpt'.format(config.mode, config.channel)), \n",
    "                               global_step = epoch)\n",
    "    \n",
    "    print(\"Training Complete. Model saved to file: {} Time elapsed: {:.3f} s\".format(save_path, time.time()-start_time))"
   ]
  },
  {
   "cell_type": "code",
   "execution_count": null,
   "metadata": {},
   "outputs": [
    {
     "name": "stdout",
     "output_type": "stream",
     "text": [
      "Architecture: Bu2Xsy - pi0veto | Layers: 5 | Dropout: 0.72 | Base LR: 0.0001 | Epochs: 16\n",
      "Building computation graph\n",
      "Building computation graph\n",
      "Building computation graph\n",
      "Building computation graph\n",
      "Epoch 0, Step 1051136 | Training Acc: 0.727 | Test Acc: 0.730 | Test Loss: 0.800 | Test AUC: 0.738 | Rate: 2623 examples/s (28.23 s) [*]\n",
      "Epoch 0, Step 2102272 | Training Acc: 0.846 | Test Acc: 0.740 | Test Loss: 0.915 | Test AUC: 0.780 | Rate: 4941 examples/s (53.58 s) [*]\n",
      "Epoch 0, Step 3153408 | Training Acc: 0.744 | Test Acc: 0.750 | Test Loss: 1.553 | Test AUC: 0.761 | Rate: 4689 examples/s (78.87 s) \n",
      "Epoch 0, Step 4204544 | Training Acc: 0.787 | Test Acc: 0.762 | Test Loss: 1.051 | Test AUC: 0.779 | Rate: 4792 examples/s (104.13 s) \n",
      "Epoch 0, Step 5255680 | Training Acc: 0.789 | Test Acc: 0.764 | Test Loss: 0.925 | Test AUC: 0.755 | Rate: 4835 examples/s (129.40 s) \n",
      "Epoch 1, Step 1050607 | Training Acc: 0.744 | Test Acc: 0.779 | Test Loss: 0.782 | Test AUC: 0.766 | Rate: 4659 examples/s (154.68 s) \n",
      "Epoch 1, Step 2101743 | Training Acc: 0.922 | Test Acc: 0.779 | Test Loss: 0.830 | Test AUC: 0.817 | Rate: 4623 examples/s (179.95 s) [*]\n",
      "Epoch 1, Step 3152879 | Training Acc: 0.744 | Test Acc: 0.740 | Test Loss: 1.025 | Test AUC: 0.753 | Rate: 4746 examples/s (205.22 s) \n",
      "Epoch 1, Step 4204015 | Training Acc: 0.840 | Test Acc: 0.803 | Test Loss: 0.619 | Test AUC: 0.803 | Rate: 4595 examples/s (230.49 s) \n",
      "Epoch 1, Step 5255151 | Training Acc: 0.775 | Test Acc: 0.771 | Test Loss: 0.978 | Test AUC: 0.761 | Rate: 5162 examples/s (255.72 s) \n",
      "Epoch 2, Step 1050078 | Training Acc: 0.801 | Test Acc: 0.764 | Test Loss: 0.878 | Test AUC: 0.790 | Rate: 4738 examples/s (280.99 s) \n",
      "Epoch 2, Step 2101214 | Training Acc: 0.947 | Test Acc: 0.822 | Test Loss: 0.553 | Test AUC: 0.855 | Rate: 4955 examples/s (306.25 s) [*]\n",
      "Epoch 2, Step 3152350 | Training Acc: 0.787 | Test Acc: 0.750 | Test Loss: 0.905 | Test AUC: 0.781 | Rate: 4890 examples/s (331.50 s) \n",
      "Epoch 2, Step 4203486 | Training Acc: 0.818 | Test Acc: 0.814 | Test Loss: 0.694 | Test AUC: 0.788 | Rate: 4889 examples/s (356.75 s) \n",
      "Epoch 2, Step 5254622 | Training Acc: 0.754 | Test Acc: 0.773 | Test Loss: 0.764 | Test AUC: 0.760 | Rate: 4770 examples/s (382.02 s) \n",
      "Epoch 3, Step 1049549 | Training Acc: 0.803 | Test Acc: 0.793 | Test Loss: 0.987 | Test AUC: 0.793 | Rate: 5122 examples/s (407.25 s) \n",
      "Epoch 3, Step 2100685 | Training Acc: 0.930 | Test Acc: 0.809 | Test Loss: 0.652 | Test AUC: 0.812 | Rate: 4927 examples/s (432.49 s) \n",
      "Epoch 3, Step 3151821 | Training Acc: 0.766 | Test Acc: 0.801 | Test Loss: 0.796 | Test AUC: 0.793 | Rate: 5138 examples/s (457.74 s) \n"
     ]
    }
   ],
   "source": [
    "train(config)"
   ]
  },
  {
   "cell_type": "markdown",
   "metadata": {},
   "source": [
    "#### Making Predictions\n",
    "Classification on a new instance is given by the softmax of the output of the final readout layer."
   ]
  },
  {
   "cell_type": "code",
   "execution_count": 6,
   "metadata": {
    "scrolled": false
   },
   "outputs": [
    {
     "name": "stdout",
     "output_type": "stream",
     "text": [
      "Building SELU architecture\n",
      "INFO:tensorflow:Restoring parameters from checkpoints/vDNN_pi0veto_Bu2Xsy_end.ckpt-0\n",
      "checkpoints/vDNN_pi0veto_Bu2Xsy_end.ckpt-0 restored.\n",
      "Validation accuracy: 0.857\n",
      "AUC: 0.8904646780489629\n"
     ]
    },
    {
     "data": {
      "image/png": "[encoded data removed]",
      "text/plain": [
       "<matplotlib.figure.Figure at 0x2af6a8c6c278>"
      ]
     },
     "metadata": {},
     "output_type": "display_data"
    },
    {
     "name": "stdout",
     "output_type": "stream",
     "text": [
      "Plotting signal efficiency versus background rejection\n"
     ]
    },
    {
     "data": {
      "text/plain": [
       "<matplotlib.figure.Figure at 0x2af6f132ac50>"
      ]
     },
     "metadata": {},
     "output_type": "display_data"
    },
    {
     "data": {
      "image/png": "[encoded data removed]",
      "text/plain": [
       "<matplotlib.figure.Figure at 0x2af79c129278>"
      ]
     },
     "metadata": {},
     "output_type": "display_data"
    },
    {
     "name": "stdout",
     "output_type": "stream",
     "text": [
      "Inference complete. Duration: 42.6341 s\n"
     ]
    }
   ],
   "source": [
    "ckpt = tf.train.get_checkpoint_state(directories.checkpoints)\n",
    "vDNN = vanillaDNN(config, training = False)\n",
    "labels, preds, output = vDNN.predict(ckpt)"
   ]
  },
  {
   "cell_type": "code",
   "execution_count": null,
   "metadata": {
    "collapsed": true
   },
   "outputs": [],
   "source": []
  }
 ],
 "metadata": {
  "kernelspec": {
   "display_name": "Python 3",
   "language": "python",
   "name": "python3"
  },
  "language_info": {
   "codemirror_mode": {
    "name": "ipython",
    "version": 3
   },
   "file_extension": ".py",
   "mimetype": "text/x-python",
   "name": "python",
   "nbconvert_exporter": "python",
   "pygments_lexer": "ipython3",
   "version": "3.6.2"
  }
 },
 "nbformat": 4,
 "nbformat_minor": 2
}
