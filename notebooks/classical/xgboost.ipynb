{
 "cells": [
  {
   "cell_type": "markdown",
   "metadata": {},
   "source": [
    "## XGBoost "
   ]
  },
  {
   "cell_type": "markdown",
   "metadata": {},
   "source": [
    "We use the XGBoost Python package to separate signal from background for rare radiative decays $b \\rightarrow s (d) \\gamma$. XGBoost is a scalable, distributed implementation of gradient tree boosting that builds the tree itself in parallel, leading to speedy cross validation (relative to other iterative algorithms). Refer to the original paper by Chen et. al: https://arxiv.org/pdf/1603.02754v1.pdf as well as the github: https://github.com/dmlc/xgboost\n",
    "\n",
    "Author: Justin Tan - 5/04/17"
   ]
  },
  {
   "cell_type": "code",
   "execution_count": 39,
   "metadata": {
    "collapsed": true
   },
   "outputs": [],
   "source": [
    "import numpy as np\n",
    "import matplotlib.pyplot as plt\n",
    "import seaborn as sns\n",
    "import pandas as pd\n",
    "import xgboost as xgb\n",
    "import time, os"
   ]
  },
  {
   "cell_type": "markdown",
   "metadata": {},
   "source": [
    "#### Training"
   ]
  },
  {
   "cell_type": "code",
   "execution_count": 40,
   "metadata": {
    "collapsed": true
   },
   "outputs": [],
   "source": [
    "# Set training mode, hadronic channel.\n",
    "mode = 'gamma_only'\n",
    "channel = 'kstar0'"
   ]
  },
  {
   "cell_type": "markdown",
   "metadata": {},
   "source": [
    "Load feature vectors saved as Pandas dataframe, convert to data matrix structure used by XGBoost."
   ]
  },
  {
   "cell_type": "code",
   "execution_count": 41,
   "metadata": {
    "collapsed": false
   },
   "outputs": [],
   "source": [
    "df = pd.read_hdf('/home/ubuntu/radiative/df/kstar0/kstar0_gamma_sig_cont.h5', 'df')"
   ]
  },
  {
   "cell_type": "code",
   "execution_count": 9,
   "metadata": {
    "collapsed": true
   },
   "outputs": [],
   "source": [
    "df = pd.read_hdf('/home/ubuntu/radiative/df/rho0/std_norm_sig_cus.h5', 'df')"
   ]
  },
  {
   "cell_type": "code",
   "execution_count": null,
   "metadata": {
    "collapsed": false
   },
   "outputs": [],
   "source": [
    "from sklearn.model_selection import train_test_split\n",
    "# Split data into training, testing sets\n",
    "df_X_train, df_X_test, df_y_train, df_y_test = train_test_split(df[df.columns[:-1]], df['labels'],\n",
    "                                                                test_size = 0.05, random_state = 24601)\n",
    "\n",
    "dTrain = xgb.DMatrix(data = df_X_train.values, label = df_y_train.values, feature_names = df.columns[:-1])\n",
    "dTest = xgb.DMatrix(data = df_X_test.values, label = df_y_test.values, feature_names = df.columns[:-1])\n",
    "# Save to XGBoost binary file for faster loading\n",
    "dTrain.save_binary(\"dTrain\" + mode + channel + \".buffer\")\n",
    "dTest.save_binary(\"dTest\" + mode + channel + \".buffer\")"
   ]
  },
  {
   "cell_type": "markdown",
   "metadata": {},
   "source": [
    "Specify the starting hyperparameters for the boosting algorithm. Ideally this would be optimized using cross-validation. Refer to https://github.com/dmlc/xgboost/blob/master/doc/parameter.md for the full list. \n",
    "Important parameters for regularization control model complexity and add randomness to make training robust against noise.\n",
    "* eta: Reduces feature weights after each boosting iteration\n",
    "* subsample: Adjusts proportion of instance that XGBoost collects to grow trees\n",
    "* max_depth: Maximum depth of tree structure. Larger depth $\\rightarrow$ greater complexity/overfitting\n",
    "* gamma: Minimum loss reduction required to further partition a leaf node on the tree"
   ]
  },
  {
   "cell_type": "code",
   "execution_count": 46,
   "metadata": {
    "collapsed": false
   },
   "outputs": [],
   "source": [
    "# Boosting hyperparameters\n",
    "params = {'eta': 0.2, 'seed':0, 'subsample': 0.9, 'colsample_bytree': 0.9, 'gamma': 0.05, \n",
    "             'objective': 'binary:logistic', 'max_depth':5, 'min_child_weight':1, 'silent':0}\n",
    "\n",
    "# Specify multiple evaluation metrics for validation set\n",
    "params['eval_metric'] = 'error@0.5'\n",
    "pList = list(params.items())+[('eval_metric', 'auc')]"
   ]
  },
  {
   "cell_type": "code",
   "execution_count": 48,
   "metadata": {
    "collapsed": false,
    "scrolled": true
   },
   "outputs": [
    {
     "name": "stdout",
     "output_type": "stream",
     "text": [
      "Starting model training\n",
      "\n",
      "[0]\ttrain-error:0.094659\ttrain-auc:0.901981\teval-error:0.093589\teval-auc:0.902183\n",
      "Multiple eval metrics have been passed: 'eval-auc' will be used for early stopping.\n",
      "\n",
      "Will train until eval-auc hasn't improved in 20 rounds.\n",
      "[1]\ttrain-error:0.089944\ttrain-auc:0.932601\teval-error:0.089384\teval-auc:0.932535\n",
      "[2]\ttrain-error:0.079728\ttrain-auc:0.946918\teval-error:0.078795\teval-auc:0.947209\n",
      "[3]\ttrain-error:0.079144\ttrain-auc:0.949071\teval-error:0.078444\teval-auc:0.949497\n",
      "[4]\ttrain-error:0.078459\ttrain-auc:0.949874\teval-error:0.077205\teval-auc:0.950388\n",
      "[5]\ttrain-error:0.077653\ttrain-auc:0.952025\teval-error:0.076503\teval-auc:0.952759\n",
      "[6]\ttrain-error:0.075482\ttrain-auc:0.958021\teval-error:0.074239\teval-auc:0.958771\n",
      "[7]\ttrain-error:0.071186\ttrain-auc:0.961964\teval-error:0.069933\teval-auc:0.962892\n",
      "[8]\ttrain-error:0.072895\ttrain-auc:0.962241\teval-error:0.071744\teval-auc:0.963223\n",
      "[9]\ttrain-error:0.071959\ttrain-auc:0.963297\teval-error:0.070903\teval-auc:0.964307\n",
      "[10]\ttrain-error:0.071651\ttrain-auc:0.964055\teval-error:0.070654\teval-auc:0.965013\n",
      "[11]\ttrain-error:0.067705\ttrain-auc:0.968405\teval-error:0.066532\teval-auc:0.96918\n",
      "[12]\ttrain-error:0.065186\ttrain-auc:0.970447\teval-error:0.064278\teval-auc:0.971304\n",
      "[13]\ttrain-error:0.064557\ttrain-auc:0.971126\teval-error:0.06364\teval-auc:0.971924\n",
      "[14]\ttrain-error:0.063972\ttrain-auc:0.971778\teval-error:0.062993\teval-auc:0.972546\n",
      "[15]\ttrain-error:0.062718\ttrain-auc:0.972939\teval-error:0.061718\teval-auc:0.973896\n",
      "[16]\ttrain-error:0.061496\ttrain-auc:0.97418\teval-error:0.060544\teval-auc:0.975273\n",
      "[17]\ttrain-error:0.06127\ttrain-auc:0.974411\teval-error:0.060397\teval-auc:0.97553\n",
      "[18]\ttrain-error:0.059228\ttrain-auc:0.97605\teval-error:0.058151\teval-auc:0.977215\n",
      "[19]\ttrain-error:0.058629\ttrain-auc:0.976385\teval-error:0.05744\teval-auc:0.977519\n",
      "[20]\ttrain-error:0.058149\ttrain-auc:0.976687\teval-error:0.057153\teval-auc:0.977784\n",
      "[21]\ttrain-error:0.057846\ttrain-auc:0.976899\teval-error:0.056802\teval-auc:0.978034\n",
      "[22]\ttrain-error:0.057032\ttrain-auc:0.977463\teval-error:0.055859\teval-auc:0.978567\n",
      "[23]\ttrain-error:0.055977\ttrain-auc:0.978043\teval-error:0.054834\teval-auc:0.979155\n",
      "[24]\ttrain-error:0.055463\ttrain-auc:0.978427\teval-error:0.054298\teval-auc:0.979548\n",
      "[25]\ttrain-error:0.054959\ttrain-auc:0.978816\teval-error:0.053845\teval-auc:0.979854\n",
      "[26]\ttrain-error:0.054301\ttrain-auc:0.979176\teval-error:0.053318\teval-auc:0.980146\n",
      "[27]\ttrain-error:0.054225\ttrain-auc:0.979264\teval-error:0.053106\teval-auc:0.980206\n",
      "[28]\ttrain-error:0.053993\ttrain-auc:0.979367\teval-error:0.052939\teval-auc:0.980297\n",
      "[29]\ttrain-error:0.053319\ttrain-auc:0.979752\teval-error:0.052246\teval-auc:0.980647\n",
      "[30]\ttrain-error:0.052698\ttrain-auc:0.979959\teval-error:0.051535\teval-auc:0.980821\n",
      "[31]\ttrain-error:0.052484\ttrain-auc:0.980049\teval-error:0.051535\teval-auc:0.980907\n",
      "[32]\ttrain-error:0.052303\ttrain-auc:0.980144\teval-error:0.051516\teval-auc:0.980987\n",
      "[33]\ttrain-error:0.052124\ttrain-auc:0.980235\teval-error:0.051211\teval-auc:0.981068\n",
      "[34]\ttrain-error:0.051921\ttrain-auc:0.980379\teval-error:0.051165\teval-auc:0.98121\n",
      "[35]\ttrain-error:0.05149\ttrain-auc:0.980628\teval-error:0.05074\teval-auc:0.981483\n",
      "[36]\ttrain-error:0.051074\ttrain-auc:0.98098\teval-error:0.050213\teval-auc:0.981812\n",
      "[37]\ttrain-error:0.050828\ttrain-auc:0.981114\teval-error:0.050056\teval-auc:0.981897\n",
      "[38]\ttrain-error:0.05047\ttrain-auc:0.981337\teval-error:0.049779\teval-auc:0.982123\n",
      "[39]\ttrain-error:0.050322\ttrain-auc:0.981376\teval-error:0.049641\teval-auc:0.982149\n",
      "[40]\ttrain-error:0.050158\ttrain-auc:0.981432\teval-error:0.04953\teval-auc:0.982181\n",
      "[41]\ttrain-error:0.049599\ttrain-auc:0.981713\teval-error:0.048994\teval-auc:0.98245\n",
      "[42]\ttrain-error:0.049067\ttrain-auc:0.982134\teval-error:0.048301\teval-auc:0.982821\n",
      "[43]\ttrain-error:0.04889\ttrain-auc:0.982231\teval-error:0.048042\teval-auc:0.982911\n",
      "[44]\ttrain-error:0.048361\ttrain-auc:0.982548\teval-error:0.047811\teval-auc:0.983236\n",
      "[45]\ttrain-error:0.048242\ttrain-auc:0.98262\teval-error:0.047728\teval-auc:0.983301\n",
      "[46]\ttrain-error:0.048001\ttrain-auc:0.982729\teval-error:0.047451\teval-auc:0.983402\n",
      "[47]\ttrain-error:0.04753\ttrain-auc:0.98296\teval-error:0.046905\teval-auc:0.983616\n",
      "[48]\ttrain-error:0.047389\ttrain-auc:0.983019\teval-error:0.046868\teval-auc:0.9837\n",
      "[49]\ttrain-error:0.047333\ttrain-auc:0.983054\teval-error:0.046739\teval-auc:0.983733\n",
      "[50]\ttrain-error:0.047225\ttrain-auc:0.983086\teval-error:0.046674\teval-auc:0.983746\n",
      "[51]\ttrain-error:0.047026\ttrain-auc:0.983142\teval-error:0.04648\teval-auc:0.983797\n",
      "[52]\ttrain-error:0.046918\ttrain-auc:0.9832\teval-error:0.046166\teval-auc:0.983854\n",
      "[53]\ttrain-error:0.046805\ttrain-auc:0.983243\teval-error:0.046101\teval-auc:0.983886\n",
      "[54]\ttrain-error:0.046769\ttrain-auc:0.983256\teval-error:0.046101\teval-auc:0.983894\n",
      "[55]\ttrain-error:0.046635\ttrain-auc:0.983394\teval-error:0.046055\teval-auc:0.983964\n",
      "[56]\ttrain-error:0.046592\ttrain-auc:0.983417\teval-error:0.046037\teval-auc:0.983982\n",
      "[57]\ttrain-error:0.046243\ttrain-auc:0.983611\teval-error:0.045686\teval-auc:0.984178\n",
      "[58]\ttrain-error:0.045946\ttrain-auc:0.983743\teval-error:0.045214\teval-auc:0.984292\n",
      "[59]\ttrain-error:0.045595\ttrain-auc:0.983964\teval-error:0.044882\teval-auc:0.984506\n",
      "[60]\ttrain-error:0.045264\ttrain-auc:0.984176\teval-error:0.044688\teval-auc:0.984717\n",
      "[61]\ttrain-error:0.045208\ttrain-auc:0.984218\teval-error:0.044632\teval-auc:0.984755\n",
      "[62]\ttrain-error:0.045091\ttrain-auc:0.984267\teval-error:0.04454\teval-auc:0.984815\n",
      "[63]\ttrain-error:0.044893\ttrain-auc:0.984393\teval-error:0.04429\teval-auc:0.984939\n",
      "[64]\ttrain-error:0.044695\ttrain-auc:0.984482\teval-error:0.044179\teval-auc:0.985011\n",
      "[65]\ttrain-error:0.044519\ttrain-auc:0.98455\teval-error:0.043948\teval-auc:0.98507\n",
      "[66]\ttrain-error:0.044462\ttrain-auc:0.984574\teval-error:0.043967\teval-auc:0.985088\n",
      "[67]\ttrain-error:0.04441\ttrain-auc:0.984603\teval-error:0.043911\teval-auc:0.985112\n",
      "[68]\ttrain-error:0.044242\ttrain-auc:0.984659\teval-error:0.043948\teval-auc:0.985166\n",
      "[69]\ttrain-error:0.044082\ttrain-auc:0.984745\teval-error:0.0438\teval-auc:0.985246\n",
      "[70]\ttrain-error:0.044037\ttrain-auc:0.984769\teval-error:0.043828\teval-auc:0.985257\n",
      "[71]\ttrain-error:0.043992\ttrain-auc:0.984785\teval-error:0.04381\teval-auc:0.985272\n",
      "[72]\ttrain-error:0.043922\ttrain-auc:0.984809\teval-error:0.043773\teval-auc:0.985291\n",
      "[73]\ttrain-error:0.043885\ttrain-auc:0.984821\teval-error:0.0438\teval-auc:0.985301\n",
      "[74]\ttrain-error:0.043832\ttrain-auc:0.984855\teval-error:0.04369\teval-auc:0.985329\n",
      "Training ended. Elapsed time: (141.286 s)\n"
     ]
    }
   ],
   "source": [
    "# Number of boosted trees to construct\n",
    "nTrees = 75\n",
    "# Specify validation set to watch performance\n",
    "evalList  = [(dTrain,'train'), (dTest,'eval')]\n",
    "evalDict = {}\n",
    "\n",
    "print(\"Starting model training\\n\")\n",
    "start_time = time.time()\n",
    "# Train the model using the above parameters\n",
    "bst = xgb.train(params = pList, dtrain = dTrain, evals = evalList, num_boost_round = nTrees, \n",
    "          evals_result = evalDict, early_stopping_rounds = 20)\n",
    "\n",
    "# Save our model\n",
    "model_name = mode + channel + str(nTrees) + '.model'\n",
    "bst.save_model(model_name)\n",
    "\n",
    "delta_t = time.time() - start_time\n",
    "print(\"Training ended. Elapsed time: (%.3f s)\" %(delta_t))"
   ]
  },
  {
   "cell_type": "markdown",
   "metadata": {},
   "source": [
    "* Crossfeed accuracy: 96%, AUC = 0.991\n",
    "* Continuum accuracy: ~ 99%, AUC ~ 1\n",
    "* Custom accuracy: ~"
   ]
  },
  {
   "cell_type": "markdown",
   "metadata": {},
   "source": [
    "#### Optimizing Hyperparameters"
   ]
  },
  {
   "cell_type": "markdown",
   "metadata": {},
   "source": [
    "The set of parameters which control the behaviour of the algorithm are not learned from the training data, called *hyperparameters*. The best value for each will depend on the dataset. We can optimize these by performing a grid search over the parameter space, using $n-$fold cross validation: The original sample is randomly partitioned into $n$ equally size subsamples - a single subsample is retained as the validation and the remaining $n-1$ subsamples are used as training data. Repeat, with each subsample used exactly once as the validation data. XGBoost is compatible with `scikit-learn`'s API, so we can reuse code from our AdaBoost notebook. See http://scikit-learn.org/stable/modules/grid_search.html"
   ]
  },
  {
   "cell_type": "code",
   "execution_count": null,
   "metadata": {
    "collapsed": false
   },
   "outputs": [
    {
     "name": "stdout",
     "output_type": "stream",
     "text": [
      "Fitting 5 folds for each of 25 candidates, totalling 125 fits\n",
      "[CV] colsample_bytree=0.913962813044, learning_rate=0.140240583722, max_depth=5, min_child_weight=2, subsample=0.849028425443 \n",
      "[CV] colsample_bytree=0.913962813044, learning_rate=0.140240583722, max_depth=5, min_child_weight=2, subsample=0.849028425443 \n",
      "[CV] colsample_bytree=0.913962813044, learning_rate=0.140240583722, max_depth=5, min_child_weight=2, subsample=0.849028425443 \n",
      "[CV] colsample_bytree=0.913962813044, learning_rate=0.140240583722, max_depth=5, min_child_weight=2, subsample=0.849028425443 \n",
      "[CV]  colsample_bytree=0.913962813044, learning_rate=0.140240583722, max_depth=5, min_child_weight=2, subsample=0.849028425443, total=15.0min\n",
      "[CV] colsample_bytree=0.913962813044, learning_rate=0.140240583722, max_depth=5, min_child_weight=2, subsample=0.849028425443 \n",
      "[CV]  colsample_bytree=0.913962813044, learning_rate=0.140240583722, max_depth=5, min_child_weight=2, subsample=0.849028425443, total=15.8min\n",
      "[CV] colsample_bytree=0.843093720178, learning_rate=0.0667731283631, max_depth=6, min_child_weight=3, subsample=0.856622998556 \n",
      "[CV]  colsample_bytree=0.913962813044, learning_rate=0.140240583722, max_depth=5, min_child_weight=2, subsample=0.849028425443, total=17.7min\n",
      "[CV] colsample_bytree=0.843093720178, learning_rate=0.0667731283631, max_depth=6, min_child_weight=3, subsample=0.856622998556 \n",
      "[CV]  colsample_bytree=0.913962813044, learning_rate=0.140240583722, max_depth=5, min_child_weight=2, subsample=0.849028425443, total=17.7min\n",
      "[CV] colsample_bytree=0.843093720178, learning_rate=0.0667731283631, max_depth=6, min_child_weight=3, subsample=0.856622998556 \n"
     ]
    }
   ],
   "source": [
    "from sklearn.model_selection import GridSearchCV, RandomizedSearchCV\n",
    "import scipy.stats as stats\n",
    "\n",
    "# Set number of parameter settings to be sampled\n",
    "n_iter = 25\n",
    "\n",
    "# Set parameter distributions for random search CV using the AUC metric\n",
    "cv_paramDist = {'learning_rate': stats.uniform(loc = 0.05, scale = 0.15), # 'n_estimators': stats.randint(150, 300),\n",
    "                'colsample_bytree': stats.uniform(0.8, 0.195),\n",
    "                'subsample': stats.uniform(loc = 0.8, scale = 0.195),\n",
    "                'max_depth': [3, 4, 5, 6],\n",
    "                'min_child_weight': [1, 2, 3]}\n",
    "\n",
    "fixed_params = {'n_estimators': 350, 'seed': 24601, 'objective': 'binary:logistic'}\n",
    "xgb_randCV = RandomizedSearchCV(xgb.XGBClassifier(**fixed_params), cv_paramDist, scoring = 'roc_auc', cv = 5, \n",
    "                                n_iter = n_iter, verbose = 2, n_jobs = -1)\n",
    "\n",
    "start = time.time()\n",
    "xgb_randCV.fit(df_X_train.values, df_y_train.values)\n",
    "print(\"RandomizedSearchCV complete. Time elapsed: %.2f seconds for %d candidates\" % ((time.time() - start), n_iter))"
   ]
  },
  {
   "cell_type": "code",
   "execution_count": 25,
   "metadata": {
    "collapsed": false
   },
   "outputs": [
    {
     "data": {
      "text/plain": [
       "{'colsample_bytree': 0.82779669726408012,\n",
       " 'learning_rate': 0.10568674671267647,\n",
       " 'max_depth': 6,\n",
       " 'min_child_weight': 1,\n",
       " 'subsample': 0.99190140241207247}"
      ]
     },
     "execution_count": 25,
     "metadata": {},
     "output_type": "execute_result"
    }
   ],
   "source": [
    "# Best set of hyperparameters\n",
    "xgb_randCV.best_params_"
   ]
  },
  {
   "cell_type": "code",
   "execution_count": null,
   "metadata": {
    "collapsed": true
   },
   "outputs": [],
   "source": [
    "optParams = {'eta': 0.1, 'seed':0, 'subsample': 0.95, 'colsample_bytree': 0.9, 'gamma': 0.05, \n",
    "             'objective': 'binary:logistic', 'max_depth':6, 'min_child_weight':1, 'silent':0}"
   ]
  },
  {
   "cell_type": "code",
   "execution_count": 33,
   "metadata": {
    "collapsed": false,
    "scrolled": true
   },
   "outputs": [
    {
     "name": "stdout",
     "output_type": "stream",
     "text": [
      "[0]\ttrain-auc:0.861859+0.000278173\ttrain-error:0.205978+0.000608732\ttest-auc:0.860835+0.00146269\ttest-error:0.207193+0.00196467\n",
      "[10]\ttrain-auc:0.897839+0.00052163\ttrain-error:0.179376+0.000859587\ttest-auc:0.896055+0.00147139\ttest-error:0.181291+0.0016627\n",
      "[20]\ttrain-auc:0.90633+0.000345617\ttrain-error:0.172124+0.000265181\ttest-auc:0.903926+0.0016062\ttest-error:0.174492+0.00190713\n",
      "[30]\ttrain-auc:0.910556+0.000486815\ttrain-error:0.168388+0.000565942\ttest-auc:0.907547+0.00107931\ttest-error:0.171029+0.00167272\n",
      "[40]\ttrain-auc:0.913759+9.17322e-05\ttrain-error:0.165542+0.000198846\ttest-auc:0.910145+0.00118215\ttest-error:0.168821+0.00146569\n",
      "[50]\ttrain-auc:0.916147+0.000203117\ttrain-error:0.163324+0.000250475\ttest-auc:0.911946+0.00116153\ttest-error:0.167316+0.00156567\n",
      "[60]\ttrain-auc:0.91799+0.000224505\ttrain-error:0.161606+0.00043436\ttest-auc:0.913203+0.00112846\ttest-error:0.16619+0.00176853\n",
      "[70]\ttrain-auc:0.91963+0.000194173\ttrain-error:0.159949+0.000354578\ttest-auc:0.914253+0.00102195\ttest-error:0.164908+0.00175753\n",
      "[80]\ttrain-auc:0.920769+0.000328737\ttrain-error:0.158756+0.000654639\ttest-auc:0.914799+0.000959314\ttest-error:0.164298+0.00155099\n",
      "[90]\ttrain-auc:0.922105+0.000330918\ttrain-error:0.157303+0.00073026\ttest-auc:0.915592+0.000951738\ttest-error:0.163728+0.00134518\n",
      "[100]\ttrain-auc:0.923058+0.000232756\ttrain-error:0.156294+0.00066907\ttest-auc:0.916012+0.000981623\ttest-error:0.163143+0.00140979\n",
      "[110]\ttrain-auc:0.923902+0.000186051\ttrain-error:0.155393+0.000527797\ttest-auc:0.916307+0.000978867\ttest-error:0.162889+0.00160488\n",
      "[120]\ttrain-auc:0.924669+0.000266909\ttrain-error:0.154601+0.000667477\ttest-auc:0.916556+0.000938846\ttest-error:0.162596+0.00137669\n",
      "[130]\ttrain-auc:0.92551+0.000270898\ttrain-error:0.153712+0.000626003\ttest-auc:0.916832+0.000912862\ttest-error:0.162156+0.00159439\n",
      "[140]\ttrain-auc:0.926292+0.000363167\ttrain-error:0.152825+0.000674223\ttest-auc:0.917143+0.000836029\ttest-error:0.161805+0.00157142\n",
      "[150]\ttrain-auc:0.927003+0.000315187\ttrain-error:0.152045+0.000610195\ttest-auc:0.917344+0.000833794\ttest-error:0.16175+0.00143372\n",
      "[160]\ttrain-auc:0.927731+0.000339234\ttrain-error:0.151279+0.000635061\ttest-auc:0.917523+0.000800286\ttest-error:0.161549+0.00137565\n",
      "[170]\ttrain-auc:0.928358+0.00031241\ttrain-error:0.15058+0.00061379\ttest-auc:0.91764+0.000844162\ttest-error:0.161414+0.00134731\n",
      "[180]\ttrain-auc:0.928953+0.000259039\ttrain-error:0.149815+0.000508516\ttest-auc:0.917723+0.000891276\ttest-error:0.161335+0.00147907\n",
      "[190]\ttrain-auc:0.929623+0.000301913\ttrain-error:0.149031+0.000603195\ttest-auc:0.917874+0.000876784\ttest-error:0.161231+0.00150901\n",
      "[200]\ttrain-auc:0.930226+0.000354664\ttrain-error:0.148341+0.000672246\ttest-auc:0.917956+0.000836115\ttest-error:0.161216+0.0013835\n",
      "[210]\ttrain-auc:0.930786+0.000368693\ttrain-error:0.147719+0.000693539\ttest-auc:0.91801+0.000793866\ttest-error:0.161289+0.00131375\n",
      "[220]\ttrain-auc:0.931466+0.000314597\ttrain-error:0.146976+0.000739318\ttest-auc:0.918202+0.000809104\ttest-error:0.161027+0.00129596\n",
      "[230]\ttrain-auc:0.931947+0.000307046\ttrain-error:0.146421+0.000681009\ttest-auc:0.918229+0.000807531\ttest-error:0.161017+0.00134792\n",
      "[240]\ttrain-auc:0.932517+0.000277878\ttrain-error:0.145746+0.000593019\ttest-auc:0.918297+0.000826561\ttest-error:0.160867+0.00135259\n",
      "[250]\ttrain-auc:0.933033+0.000316446\ttrain-error:0.145152+0.000592179\ttest-auc:0.918327+0.000842301\ttest-error:0.160918+0.00118708\n",
      "[260]\ttrain-auc:0.933541+0.000313808\ttrain-error:0.144526+0.000668587\ttest-auc:0.918369+0.000865626\ttest-error:0.160852+0.00123704\n",
      "[270]\ttrain-auc:0.934128+0.000309396\ttrain-error:0.143809+0.000639402\ttest-auc:0.918451+0.000847163\ttest-error:0.160771+0.00120248\n",
      "[280]\ttrain-auc:0.934665+0.000317387\ttrain-error:0.143155+0.000650691\ttest-auc:0.918499+0.00080859\ttest-error:0.160664+0.0012407\n",
      "[290]\ttrain-auc:0.935228+0.000322943\ttrain-error:0.142517+0.000614368\ttest-auc:0.918582+0.000791712\ttest-error:0.16058+0.00107991\n",
      "[300]\ttrain-auc:0.935708+0.00036061\ttrain-error:0.141971+0.000695065\ttest-auc:0.91857+0.000818663\ttest-error:0.16058+0.00114249\n",
      "[310]\ttrain-auc:0.936212+0.000359583\ttrain-error:0.141409+0.000684801\ttest-auc:0.918581+0.000831321\ttest-error:0.160651+0.000983923\n",
      "[320]\ttrain-auc:0.936782+0.000322594\ttrain-error:0.140715+0.000719932\ttest-auc:0.918674+0.000847351\ttest-error:0.16045+0.00109373\n",
      "[330]\ttrain-auc:0.937271+0.000333185\ttrain-error:0.140074+0.000682436\ttest-auc:0.918693+0.000838091\ttest-error:0.16045+0.0010565\n",
      "[340]\ttrain-auc:0.937734+0.00033167\ttrain-error:0.139489+0.000651873\ttest-auc:0.918698+0.000824699\ttest-error:0.160417+0.00124092\n",
      "[350]\ttrain-auc:0.938191+0.000304982\ttrain-error:0.138838+0.000639185\ttest-auc:0.918696+0.000823397\ttest-error:0.160483+0.00118835\n",
      "[360]\ttrain-auc:0.938634+0.000300864\ttrain-error:0.138306+0.000658089\ttest-auc:0.918697+0.000821008\ttest-error:0.160407+0.00117152\n",
      "[370]\ttrain-auc:0.939053+0.000259074\ttrain-error:0.137796+0.000686887\ttest-auc:0.91872+0.000808779\ttest-error:0.160463+0.00113559\n",
      "[380]\ttrain-auc:0.939542+0.00024093\ttrain-error:0.137197+0.000720103\ttest-auc:0.918751+0.000832329\ttest-error:0.160384+0.00109876\n",
      "[390]\ttrain-auc:0.940039+0.000286544\ttrain-error:0.136526+0.000756489\ttest-auc:0.918804+0.000825468\ttest-error:0.160339+0.00105465\n",
      "[400]\ttrain-auc:0.940469+0.000279302\ttrain-error:0.135967+0.000782004\ttest-auc:0.918807+0.000832574\ttest-error:0.16028+0.00101883\n",
      "[410]\ttrain-auc:0.940942+0.000270736\ttrain-error:0.135301+0.000775515\ttest-auc:0.918793+0.000829554\ttest-error:0.160265+0.00107146\n",
      "[420]\ttrain-auc:0.941348+0.000275828\ttrain-error:0.134882+0.000680412\ttest-auc:0.918784+0.000851939\ttest-error:0.160313+0.00096992\n",
      "[430]\ttrain-auc:0.941779+0.000323782\ttrain-error:0.134347+0.000708861\ttest-auc:0.918768+0.00085264\ttest-error:0.160234+0.00100316\n",
      "[440]\ttrain-auc:0.942243+0.000328164\ttrain-error:0.133657+0.000661872\ttest-auc:0.918801+0.000847173\ttest-error:0.160292+0.000902565\n",
      "[450]\ttrain-auc:0.942617+0.000337573\ttrain-error:0.133182+0.00074273\ttest-auc:0.918814+0.000845156\ttest-error:0.160376+0.00112526\n",
      "[460]\ttrain-auc:0.943058+0.000323187\ttrain-error:0.132605+0.000753002\ttest-auc:0.918824+0.000807352\ttest-error:0.160292+0.00101506\n"
     ]
    }
   ],
   "source": [
    "# Cross-validation on optimal parameters\n",
    "xgb_cv = xgb.cv(params = optParams, dtrain = dTrain, nfold = 5, metrics = ['error', 'auc'], verbose_eval = 10, \n",
    "                stratified = True, as_pandas = True, early_stopping_rounds = 30, num_boost_round = 500)"
   ]
  },
  {
   "cell_type": "markdown",
   "metadata": {},
   "source": [
    "Model performance varies dramatically depending on our choice of hyperparameters. Tuning a large number of hyperparameters a grid search may be prohibitively expensive and we can instead randomly sample from distributions of hyperparamters and evaluate the model at these points."
   ]
  },
  {
   "cell_type": "markdown",
   "metadata": {},
   "source": [
    "#### Inference"
   ]
  },
  {
   "cell_type": "code",
   "execution_count": 50,
   "metadata": {
    "collapsed": true
   },
   "outputs": [],
   "source": [
    "def plot_ROC_curve(y_true, network_output, meta):\n",
    "    \"\"\"\n",
    "    Plots the receiver-operating characteristic curve\n",
    "    Inputs: y:                 One-hot encoded binary labels\n",
    "            network_output:    NN output probabilities\n",
    "    Output: AUC:               Area under the ROC Curve\n",
    "\n",
    "    \"\"\"\n",
    "    from sklearn.metrics import roc_curve, auc\n",
    "    \n",
    "    # Compute ROC curve, integrate\n",
    "    fpr, tpr, thresholds = roc_curve(y_true, network_output)    \n",
    "    roc_auc = auc(fpr, tpr)\n",
    "    \n",
    "    plt.figure()\n",
    "    plt.axes([.1,.1,.8,.7])                           \n",
    "    plt.figtext(.5,.9, r'$\\mathrm{Receiver \\;operating \\;characteristic}$', fontsize=15, ha='center')\n",
    "    plt.figtext(.5,.85, meta, fontsize=10,ha='center')\n",
    "    plt.plot(fpr, tpr, color='darkorange',\n",
    "                     lw=2, label='ROC curve - custom (area = %0.2f)' % roc_auc)\n",
    "    plt.plot([0, 1], [0, 1], color='navy', lw=1.0, linestyle='--')\n",
    "    plt.xlim([-0.05, 1.05])\n",
    "    plt.ylim([-0.05, 1.05])\n",
    "    plt.xlabel(r'$\\mathrm{False \\;Positive \\;Rate}$')\n",
    "    plt.ylabel(r'$\\mathrm{True \\;Positive \\;Rate}$')\n",
    "    plt.legend(loc=\"lower right\")\n",
    "    plt.savefig(\"graphs/\" + \"clf_ROCcurve.pdf\",format='pdf', dpi=1000)\n",
    "    plt.show()\n",
    "    plt.gcf().clear()"
   ]
  },
  {
   "cell_type": "code",
   "execution_count": 51,
   "metadata": {
    "collapsed": false
   },
   "outputs": [],
   "source": [
    "# Load previously trained model\n",
    "xgb_pred = bst.predict(dTest)\n",
    "meta = 'XGBoost - max_depth: 5, subsample: 0.9, $\\eta = 0.2$'"
   ]
  },
  {
   "cell_type": "code",
   "execution_count": 52,
   "metadata": {
    "collapsed": false,
    "scrolled": true
   },
   "outputs": [
    {
     "data": {
      "image/png": "[encoded data removed]",
      "text/plain": [
       "<matplotlib.figure.Figure at 0x7f74efeec4a8>"
      ]
     },
     "metadata": {},
     "output_type": "display_data"
    },
    {
     "data": {
      "text/plain": [
       "<matplotlib.figure.Figure at 0x7f7535935ac8>"
      ]
     },
     "metadata": {},
     "output_type": "display_data"
    }
   ],
   "source": [
    "plot_ROC_curve(df_y_test.values, xgb_pred, meta)"
   ]
  },
  {
   "cell_type": "markdown",
   "metadata": {},
   "source": [
    "\n",
    "#### Feature Importances"
   ]
  },
  {
   "cell_type": "markdown",
   "metadata": {},
   "source": [
    "Plot the feature importances of the 20 features that contributed the most to overall tree impurity reduction."
   ]
  },
  {
   "cell_type": "code",
   "execution_count": 49,
   "metadata": {
    "collapsed": false,
    "scrolled": true
   },
   "outputs": [
    {
     "data": {
      "text/plain": [
       "<matplotlib.axes._subplots.AxesSubplot at 0x7f74f00859b0>"
      ]
     },
     "execution_count": 49,
     "metadata": {},
     "output_type": "execute_result"
    },
    {
     "data": {
      "image/png": "[encoded data removed]",
      "text/plain": [
       "<matplotlib.figure.Figure at 0x7f74ef825eb8>"
      ]
     },
     "metadata": {},
     "output_type": "display_data"
    }
   ],
   "source": [
    "%matplotlib inline\n",
    "importances = bst.get_fscore()\n",
    "df_importance = pd.DataFrame({'Importance': list(importances.values()), 'Feature': list(importances.keys())})\n",
    "df_importance.sort_values(by = 'Importance', inplace = True)\n",
    "df_importance[-20:].plot(kind = 'barh', x = 'Feature', color = 'orange', figsize = (10,10), \n",
    "                         title = 'Feature Importances')"
   ]
  }
 ],
 "metadata": {
  "kernelspec": {
   "display_name": "Python 3",
   "language": "python",
   "name": "python3"
  },
  "language_info": {
   "codemirror_mode": {
    "name": "ipython",
    "version": 3
   },
   "file_extension": ".py",
   "mimetype": "text/x-python",
   "name": "python",
   "nbconvert_exporter": "python",
   "pygments_lexer": "ipython3",
   "version": "3.6.0"
  }
 },
 "nbformat": 4,
 "nbformat_minor": 2
}
