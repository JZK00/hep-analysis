{
 "cells": [
  {
   "cell_type": "markdown",
   "metadata": {},
   "source": [
    "## Support Vector Machine"
   ]
  },
  {
   "cell_type": "markdown",
   "metadata": {},
   "source": [
    "Classical algorithm for signal/background separation. Try using this and tree-based methods before going into anything too deep. The performance of SVMs is often contingent on hyperparameters of the kernel. Extending to HyperBand cross-validation may be worthwhile.\n",
    "\n",
    "Todo: Cross-validation to resolve hyperparameters, Outlier Detection\n",
    "\n",
    "Note: Fit time complexity is greater than quadratic with the number of training samples, making datasets of $\\mathcal{O}(10^5)$ hard to train. May be practical to form an ensemble of SVM classifiers with suitably tuned hyperparameters."
   ]
  },
  {
   "cell_type": "code",
   "execution_count": 1,
   "metadata": {
    "collapsed": true
   },
   "outputs": [],
   "source": [
    "import numpy as np\n",
    "import pandas as pd\n",
    "import time, os\n",
    "from sklearn import svm\n",
    "\n",
    "class config(object):\n",
    "    # Set network parameters\n",
    "    mode = 'kst'\n",
    "    channel = 'rho0'\n",
    "\n",
    "def load_data(file_name, test_size = 0.05):\n",
    "    from sklearn.model_selection import train_test_split\n",
    "    df = pd.read_hdf(file_name, 'df')\n",
    "    df_X_train, df_X_test, df_y_train, df_y_test = train_test_split(df.drop('labels', axis = 1),\n",
    "                                                                    df['labels'], test_size = test_size, random_state=42)\n",
    "    return df_X_train, df_X_test, df_y_train, df_y_test\n",
    "\n",
    "def plot_ROC_curve(network_output, y_true, meta = ''):\n",
    "    import matplotlib.pyplot as plt\n",
    "    import seaborn as sns\n",
    "    from sklearn.metrics import roc_curve, auc\n",
    "    \n",
    "    y_score = network_output[:,1]\n",
    "    # Compute ROC curve, integrate\n",
    "    fpr, tpr, thresholds = roc_curve(y_true, y_score)    \n",
    "    roc_auc = auc(fpr, tpr)\n",
    "    \n",
    "    plt.figure()\n",
    "    plt.axes([.1,.1,.8,.7])\n",
    "    plt.figtext(.5,.9, r'$\\mathrm{Receiver \\;Operating \\;Characteristic}$', fontsize=15, ha='center')\n",
    "    plt.figtext(.5,.85, meta, fontsize=10,ha='center')\n",
    "    plt.plot(fpr, tpr, color='darkorange',\n",
    "                     lw=2, label='ROC (area = %0.2f)' % roc_auc)\n",
    "    plt.plot([0, 1], [0, 1], color='navy', lw=1.0, linestyle='--')\n",
    "    plt.xlim([-0.05, 1.05])\n",
    "    plt.ylim([-0.05, 1.05])\n",
    "    plt.xlabel(r'$\\mathrm{False \\;Positive \\;Rate}$')\n",
    "    plt.ylabel(r'$\\mathrm{True \\;Positive \\;Rate}$')\n",
    "    plt.legend(loc=\"lower right\")\n",
    "    plt.savefig(os.path.join('graphs', '{}_{}_ROC.pdf'.format(config.channel, config.mode)), format='pdf', dpi=1000)\n",
    "    plt.show()\n",
    "    plt.gcf().clear()"
   ]
  },
  {
   "cell_type": "code",
   "execution_count": 2,
   "metadata": {
    "collapsed": true
   },
   "outputs": [],
   "source": [
    "test_file = '/data/dnn/norm_std_dnn_B02rho0gamma_kst.h5'\n",
    "\n",
    "df_X_train, df_X_test, df_y_train, df_y_test = load_data(test_file)\n",
    "df_y_train = df_y_train.astype(np.int8)\n",
    "df_y_test = df_y_test.astype(np.int8)\n",
    "df_train = pd.concat([df_X_train, df_y_train], axis = 1)\n",
    "df_test = pd.concat([df_X_test, df_y_test], axis = 1)\n",
    "config.n_features = df_train.shape[1]-1\n",
    "\n",
    "train_X = df_X_train.iloc[:32000]\n",
    "train_y = df_y_train.iloc[:32000]\n",
    "test_X = df_X_test.iloc[:10000]\n",
    "test_y = df_y_test.iloc[:10000]\n",
    "grid_X = df_X_train.iloc[64000:72000]\n",
    "grid_y = df_y_train.iloc[64000:72000]"
   ]
  },
  {
   "cell_type": "code",
   "execution_count": 20,
   "metadata": {
    "collapsed": true
   },
   "outputs": [],
   "source": [
    "from sklearn.multiclass import OneVsRestClassifier\n",
    "#mySVM = svm.SVC(kernel = 'rbf', cache_size = 8192, decision_function_shape = 'ovr')\n",
    "mySVM = OneVsRestClassifier(svm.SVC(kernel = 'rbf', cache_size = 8192, decision_function_shape = 'ovr'), n_jobs = -1)\n",
    "\n",
    "mySVM.fit(train_X.values, train_y.values)"
   ]
  },
  {
   "cell_type": "markdown",
   "metadata": {},
   "source": [
    "### Grid Search?"
   ]
  },
  {
   "cell_type": "code",
   "execution_count": null,
   "metadata": {},
   "outputs": [],
   "source": [
    "from sklearn.model_selection import StratifiedShuffleSplit\n",
    "from sklearn.model_selection import GridSearchCV\n",
    "\n",
    "C_range = np.logspace(-2, 10, 13)\n",
    "gamma_range = np.logspace(-9, 3, 13)\n",
    "param_grid = dict(gamma = gamma_range, C = C_range)\n",
    "cv = StratifiedShuffleSplit(n_splits = 4, test_size = 0.25, random_state = 28)\n",
    "grid = GridSearchCV(estimator = svm.SVC(), param_grid = param_grid, cv = cv, n_jobs = -1, scoring = 'roc_auc')\n",
    "grid.fit(grid_X.values, grid_y.values)"
   ]
  },
  {
   "cell_type": "code",
   "execution_count": null,
   "metadata": {
    "collapsed": true
   },
   "outputs": [],
   "source": [
    "print('Parameters selected by cross-validation: {}, AUC: {}'.format(grid.best_params_, grid.best_score_))"
   ]
  }
 ],
 "metadata": {
  "kernelspec": {
   "display_name": "Python 3",
   "language": "python",
   "name": "python3"
  },
  "language_info": {
   "codemirror_mode": {
    "name": "ipython",
    "version": 3
   },
   "file_extension": ".py",
   "mimetype": "text/x-python",
   "name": "python",
   "nbconvert_exporter": "python",
   "pygments_lexer": "ipython3",
   "version": "3.6.1"
  }
 },
 "nbformat": 4,
 "nbformat_minor": 2
}
